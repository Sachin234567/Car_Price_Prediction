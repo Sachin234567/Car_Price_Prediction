{
 "cells": [
  {
   "cell_type": "markdown",
   "id": "8574019a-c46a-4cb9-9764-fa65e677c55b",
   "metadata": {},
   "source": [
    "IMPORT THE REQUIRED LIBERARIES"
   ]
  },
  {
   "cell_type": "code",
   "execution_count": 27,
   "id": "015f1f3a-a814-403b-8dc3-e867ea321e06",
   "metadata": {},
   "outputs": [],
   "source": [
    "import pandas as pd\n",
    "import matplotlib.pyplot as plt\n",
    "import seaborn as sns"
   ]
  },
  {
   "cell_type": "markdown",
   "id": "a23319fd-5e5d-402b-9876-2603925e16e8",
   "metadata": {},
   "source": [
    "LOAD THE DATASET "
   ]
  },
  {
   "cell_type": "code",
   "execution_count": 28,
   "id": "af0edadf-c73c-49d2-87cc-8cf64af579bd",
   "metadata": {},
   "outputs": [],
   "source": [
    "dataset = pd.read_csv(\"Old_Car.csv\")"
   ]
  },
  {
   "cell_type": "markdown",
   "id": "011af0f7-5395-46d4-acf5-d4e19b806224",
   "metadata": {},
   "source": [
    "PRINT DATASET "
   ]
  },
  {
   "cell_type": "code",
   "execution_count": 29,
   "id": "10ec5da2-bcb3-4908-941a-95bb2baaed86",
   "metadata": {},
   "outputs": [
    {
     "data": {
      "text/html": [
       "<div>\n",
       "<style scoped>\n",
       "    .dataframe tbody tr th:only-of-type {\n",
       "        vertical-align: middle;\n",
       "    }\n",
       "\n",
       "    .dataframe tbody tr th {\n",
       "        vertical-align: top;\n",
       "    }\n",
       "\n",
       "    .dataframe thead th {\n",
       "        text-align: right;\n",
       "    }\n",
       "</style>\n",
       "<table border=\"1\" class=\"dataframe\">\n",
       "  <thead>\n",
       "    <tr style=\"text-align: right;\">\n",
       "      <th></th>\n",
       "      <th>Unnamed: 0</th>\n",
       "      <th>Name</th>\n",
       "      <th>Location</th>\n",
       "      <th>Year</th>\n",
       "      <th>Kilometers_Driven</th>\n",
       "      <th>Fuel_Type</th>\n",
       "      <th>Transmission</th>\n",
       "      <th>Owner_Type</th>\n",
       "      <th>Mileage</th>\n",
       "      <th>Engine</th>\n",
       "      <th>Power</th>\n",
       "      <th>Seats</th>\n",
       "      <th>Price</th>\n",
       "    </tr>\n",
       "  </thead>\n",
       "  <tbody>\n",
       "    <tr>\n",
       "      <th>0</th>\n",
       "      <td>0</td>\n",
       "      <td>Maruti Wagon R LXI CNG</td>\n",
       "      <td>Mumbai</td>\n",
       "      <td>2010</td>\n",
       "      <td>72000</td>\n",
       "      <td>CNG</td>\n",
       "      <td>Manual</td>\n",
       "      <td>First</td>\n",
       "      <td>26.6 km/kg</td>\n",
       "      <td>998 CC</td>\n",
       "      <td>58.16 bhp</td>\n",
       "      <td>5.0</td>\n",
       "      <td>1.75</td>\n",
       "    </tr>\n",
       "    <tr>\n",
       "      <th>1</th>\n",
       "      <td>1</td>\n",
       "      <td>Hyundai Creta 1.6 CRDi SX Option</td>\n",
       "      <td>Pune</td>\n",
       "      <td>2015</td>\n",
       "      <td>41000</td>\n",
       "      <td>Diesel</td>\n",
       "      <td>Manual</td>\n",
       "      <td>First</td>\n",
       "      <td>19.67 kmpl</td>\n",
       "      <td>1582 CC</td>\n",
       "      <td>126.2 bhp</td>\n",
       "      <td>5.0</td>\n",
       "      <td>12.50</td>\n",
       "    </tr>\n",
       "  </tbody>\n",
       "</table>\n",
       "</div>"
      ],
      "text/plain": [
       "   Unnamed: 0                              Name Location  Year  \\\n",
       "0           0            Maruti Wagon R LXI CNG   Mumbai  2010   \n",
       "1           1  Hyundai Creta 1.6 CRDi SX Option     Pune  2015   \n",
       "\n",
       "   Kilometers_Driven Fuel_Type Transmission Owner_Type     Mileage   Engine  \\\n",
       "0              72000       CNG       Manual      First  26.6 km/kg   998 CC   \n",
       "1              41000    Diesel       Manual      First  19.67 kmpl  1582 CC   \n",
       "\n",
       "       Power  Seats  Price  \n",
       "0  58.16 bhp    5.0   1.75  \n",
       "1  126.2 bhp    5.0  12.50  "
      ]
     },
     "execution_count": 29,
     "metadata": {},
     "output_type": "execute_result"
    }
   ],
   "source": [
    "dataset.head(2)"
   ]
  },
  {
   "cell_type": "markdown",
   "id": "13c8a6bd-88ab-40f5-bd1f-fac6fbb814db",
   "metadata": {},
   "source": [
    "DELETE COLUMNS WHICH ARE NOT SO USEFUL"
   ]
  },
  {
   "cell_type": "code",
   "execution_count": 30,
   "id": "b55c0c21-0ff7-4d20-b9db-408ec70178b4",
   "metadata": {},
   "outputs": [],
   "source": [
    "dataset.drop(columns = [\"Unnamed: 0\",\"Location\",\"Kilometers_Driven\",\"Mileage\",\"Engine\",\"Power\",\"Seats\"],inplace = True)"
   ]
  },
  {
   "cell_type": "markdown",
   "id": "5d8fa70e-cb34-40e4-9a4b-0528d4c39549",
   "metadata": {},
   "source": [
    "AGAIN CHECK DATASET"
   ]
  },
  {
   "cell_type": "code",
   "execution_count": 31,
   "id": "6b62377c-3cfe-477c-8832-cedd262d277e",
   "metadata": {},
   "outputs": [
    {
     "data": {
      "text/html": [
       "<div>\n",
       "<style scoped>\n",
       "    .dataframe tbody tr th:only-of-type {\n",
       "        vertical-align: middle;\n",
       "    }\n",
       "\n",
       "    .dataframe tbody tr th {\n",
       "        vertical-align: top;\n",
       "    }\n",
       "\n",
       "    .dataframe thead th {\n",
       "        text-align: right;\n",
       "    }\n",
       "</style>\n",
       "<table border=\"1\" class=\"dataframe\">\n",
       "  <thead>\n",
       "    <tr style=\"text-align: right;\">\n",
       "      <th></th>\n",
       "      <th>Name</th>\n",
       "      <th>Year</th>\n",
       "      <th>Fuel_Type</th>\n",
       "      <th>Transmission</th>\n",
       "      <th>Owner_Type</th>\n",
       "      <th>Price</th>\n",
       "    </tr>\n",
       "  </thead>\n",
       "  <tbody>\n",
       "    <tr>\n",
       "      <th>0</th>\n",
       "      <td>Maruti Wagon R LXI CNG</td>\n",
       "      <td>2010</td>\n",
       "      <td>CNG</td>\n",
       "      <td>Manual</td>\n",
       "      <td>First</td>\n",
       "      <td>1.75</td>\n",
       "    </tr>\n",
       "    <tr>\n",
       "      <th>1</th>\n",
       "      <td>Hyundai Creta 1.6 CRDi SX Option</td>\n",
       "      <td>2015</td>\n",
       "      <td>Diesel</td>\n",
       "      <td>Manual</td>\n",
       "      <td>First</td>\n",
       "      <td>12.50</td>\n",
       "    </tr>\n",
       "  </tbody>\n",
       "</table>\n",
       "</div>"
      ],
      "text/plain": [
       "                               Name  Year Fuel_Type Transmission Owner_Type  \\\n",
       "0            Maruti Wagon R LXI CNG  2010       CNG       Manual      First   \n",
       "1  Hyundai Creta 1.6 CRDi SX Option  2015    Diesel       Manual      First   \n",
       "\n",
       "   Price  \n",
       "0   1.75  \n",
       "1  12.50  "
      ]
     },
     "execution_count": 31,
     "metadata": {},
     "output_type": "execute_result"
    }
   ],
   "source": [
    "dataset.head(2)"
   ]
  },
  {
   "cell_type": "markdown",
   "id": "2dd4a1e4-6116-48a0-a166-58a9e5a18c81",
   "metadata": {},
   "source": [
    "NOW EXTRACT INFORMATION REGARDING THE DATASET"
   ]
  },
  {
   "cell_type": "code",
   "execution_count": 32,
   "id": "0ee3e09c-f5f1-410d-97ae-6b435ea97450",
   "metadata": {},
   "outputs": [
    {
     "name": "stdout",
     "output_type": "stream",
     "text": [
      "<class 'pandas.core.frame.DataFrame'>\n",
      "RangeIndex: 6019 entries, 0 to 6018\n",
      "Data columns (total 6 columns):\n",
      " #   Column        Non-Null Count  Dtype  \n",
      "---  ------        --------------  -----  \n",
      " 0   Name          6019 non-null   object \n",
      " 1   Year          6019 non-null   int64  \n",
      " 2   Fuel_Type     6019 non-null   object \n",
      " 3   Transmission  6019 non-null   object \n",
      " 4   Owner_Type    6019 non-null   object \n",
      " 5   Price         6019 non-null   float64\n",
      "dtypes: float64(1), int64(1), object(4)\n",
      "memory usage: 282.3+ KB\n"
     ]
    }
   ],
   "source": [
    "dataset.info()"
   ]
  },
  {
   "cell_type": "markdown",
   "id": "ffa4ff66-a85b-4dea-b202-076bcb83a618",
   "metadata": {},
   "source": [
    "NOW CHECK MISSING VALUES IF ANY"
   ]
  },
  {
   "cell_type": "code",
   "execution_count": 33,
   "id": "cf281ada-18fc-4a0d-bfe4-7010a73ca740",
   "metadata": {},
   "outputs": [
    {
     "data": {
      "text/plain": [
       "Name            0\n",
       "Year            0\n",
       "Fuel_Type       0\n",
       "Transmission    0\n",
       "Owner_Type      0\n",
       "Price           0\n",
       "dtype: int64"
      ]
     },
     "execution_count": 33,
     "metadata": {},
     "output_type": "execute_result"
    }
   ],
   "source": [
    "dataset.isnull().sum()"
   ]
  },
  {
   "cell_type": "markdown",
   "id": "edc85a9e-6dc6-4001-99b7-28b70876257c",
   "metadata": {},
   "source": [
    "NOW FIND THE STATISTICS PARAMETERS REGARDING DATASET"
   ]
  },
  {
   "cell_type": "code",
   "execution_count": 34,
   "id": "9803fc3b-dff7-4ad4-b21e-2a01282e04fa",
   "metadata": {},
   "outputs": [
    {
     "data": {
      "text/html": [
       "<div>\n",
       "<style scoped>\n",
       "    .dataframe tbody tr th:only-of-type {\n",
       "        vertical-align: middle;\n",
       "    }\n",
       "\n",
       "    .dataframe tbody tr th {\n",
       "        vertical-align: top;\n",
       "    }\n",
       "\n",
       "    .dataframe thead th {\n",
       "        text-align: right;\n",
       "    }\n",
       "</style>\n",
       "<table border=\"1\" class=\"dataframe\">\n",
       "  <thead>\n",
       "    <tr style=\"text-align: right;\">\n",
       "      <th></th>\n",
       "      <th>Year</th>\n",
       "      <th>Price</th>\n",
       "    </tr>\n",
       "  </thead>\n",
       "  <tbody>\n",
       "    <tr>\n",
       "      <th>count</th>\n",
       "      <td>6019.000000</td>\n",
       "      <td>6019.000000</td>\n",
       "    </tr>\n",
       "    <tr>\n",
       "      <th>mean</th>\n",
       "      <td>2013.358199</td>\n",
       "      <td>9.479468</td>\n",
       "    </tr>\n",
       "    <tr>\n",
       "      <th>std</th>\n",
       "      <td>3.269742</td>\n",
       "      <td>11.187917</td>\n",
       "    </tr>\n",
       "    <tr>\n",
       "      <th>min</th>\n",
       "      <td>1998.000000</td>\n",
       "      <td>0.440000</td>\n",
       "    </tr>\n",
       "    <tr>\n",
       "      <th>25%</th>\n",
       "      <td>2011.000000</td>\n",
       "      <td>3.500000</td>\n",
       "    </tr>\n",
       "    <tr>\n",
       "      <th>50%</th>\n",
       "      <td>2014.000000</td>\n",
       "      <td>5.640000</td>\n",
       "    </tr>\n",
       "    <tr>\n",
       "      <th>75%</th>\n",
       "      <td>2016.000000</td>\n",
       "      <td>9.950000</td>\n",
       "    </tr>\n",
       "    <tr>\n",
       "      <th>max</th>\n",
       "      <td>2019.000000</td>\n",
       "      <td>160.000000</td>\n",
       "    </tr>\n",
       "  </tbody>\n",
       "</table>\n",
       "</div>"
      ],
      "text/plain": [
       "              Year        Price\n",
       "count  6019.000000  6019.000000\n",
       "mean   2013.358199     9.479468\n",
       "std       3.269742    11.187917\n",
       "min    1998.000000     0.440000\n",
       "25%    2011.000000     3.500000\n",
       "50%    2014.000000     5.640000\n",
       "75%    2016.000000     9.950000\n",
       "max    2019.000000   160.000000"
      ]
     },
     "execution_count": 34,
     "metadata": {},
     "output_type": "execute_result"
    }
   ],
   "source": [
    "dataset.describe()"
   ]
  },
  {
   "cell_type": "markdown",
   "id": "a6320038-33ec-4c3b-9215-c2c18af6c8e3",
   "metadata": {},
   "source": [
    "PERFORM ENCODING ON DATASET(convert categorical data into numeric form)\n",
    "BY USING LABEL ENCODER.\n"
   ]
  },
  {
   "cell_type": "code",
   "execution_count": 35,
   "id": "7b30d25b-5738-4c8f-aa19-07199e632249",
   "metadata": {},
   "outputs": [],
   "source": [
    "from sklearn.preprocessing import LabelEncoder"
   ]
  },
  {
   "cell_type": "code",
   "execution_count": 36,
   "id": "ed4b3470-fcac-4743-9b73-118990cdf9f8",
   "metadata": {},
   "outputs": [],
   "source": [
    "Car_Name_le  = LabelEncoder()"
   ]
  },
  {
   "cell_type": "code",
   "execution_count": 37,
   "id": "31d3f554-f65c-4ee3-a169-fbc76614c912",
   "metadata": {},
   "outputs": [],
   "source": [
    "dataset[\"Name\"]  = Car_Name_le.fit_transform(dataset[\"Name\"])"
   ]
  },
  {
   "cell_type": "code",
   "execution_count": 38,
   "id": "0a61a8ba-c1d0-4bb5-a130-04c030f3e06f",
   "metadata": {},
   "outputs": [
    {
     "data": {
      "text/plain": [
       "array(['First', 'Second', 'Fourth & Above', 'Third'], dtype=object)"
      ]
     },
     "execution_count": 38,
     "metadata": {},
     "output_type": "execute_result"
    }
   ],
   "source": [
    "dataset[\"Owner_Type\"].unique()"
   ]
  },
  {
   "cell_type": "code",
   "execution_count": 39,
   "id": "54ac9a30-aabc-4a0c-95c2-3e29a48ac2f3",
   "metadata": {},
   "outputs": [],
   "source": [
    "Owner_type_le = LabelEncoder()"
   ]
  },
  {
   "cell_type": "code",
   "execution_count": 40,
   "id": "0f4502ca-4296-4f09-995b-0e827b7a03f2",
   "metadata": {},
   "outputs": [],
   "source": [
    "dataset[\"Owner_Type\"] = Owner_type_le.fit_transform(dataset[\"Owner_Type\"])"
   ]
  },
  {
   "cell_type": "code",
   "execution_count": 41,
   "id": "5bbd19c2-ddc1-43a9-aecc-7a746ca2192b",
   "metadata": {},
   "outputs": [
    {
     "data": {
      "text/plain": [
       "array(['CNG', 'Diesel', 'Petrol', 'LPG', 'Electric'], dtype=object)"
      ]
     },
     "execution_count": 41,
     "metadata": {},
     "output_type": "execute_result"
    }
   ],
   "source": [
    "dataset[\"Fuel_Type\"].unique()"
   ]
  },
  {
   "cell_type": "code",
   "execution_count": 42,
   "id": "60a874e3-9c67-45fb-8e50-539268b7ac40",
   "metadata": {},
   "outputs": [],
   "source": [
    "Fuel_Type_le = LabelEncoder()"
   ]
  },
  {
   "cell_type": "code",
   "execution_count": 43,
   "id": "d882e606-a269-4872-a7f2-02ddf368533c",
   "metadata": {},
   "outputs": [],
   "source": [
    "dataset[\"Fuel_Type\"] = Fuel_Type_le.fit_transform(dataset[\"Fuel_Type\"])"
   ]
  },
  {
   "cell_type": "code",
   "execution_count": 44,
   "id": "bde5008c-3cab-4864-ada5-b15a03857a48",
   "metadata": {},
   "outputs": [],
   "source": [
    "Transmission_le = LabelEncoder()"
   ]
  },
  {
   "cell_type": "code",
   "execution_count": 45,
   "id": "db9db0d7-f7a7-4359-9869-318152b019c1",
   "metadata": {},
   "outputs": [],
   "source": [
    "dataset[\"Transmission\"] = Transmission_le.fit_transform(dataset[\"Transmission\"])"
   ]
  },
  {
   "cell_type": "markdown",
   "id": "61230082-5b74-46a4-ae42-de07a2e47c2b",
   "metadata": {},
   "source": [
    "NOW PRINT THE NEW DATASET WHICH WE HAVE ENCODED"
   ]
  },
  {
   "cell_type": "code",
   "execution_count": 46,
   "id": "f6f1d616-c94f-4f42-851b-9c0edfd469d0",
   "metadata": {},
   "outputs": [
    {
     "data": {
      "text/html": [
       "<div>\n",
       "<style scoped>\n",
       "    .dataframe tbody tr th:only-of-type {\n",
       "        vertical-align: middle;\n",
       "    }\n",
       "\n",
       "    .dataframe tbody tr th {\n",
       "        vertical-align: top;\n",
       "    }\n",
       "\n",
       "    .dataframe thead th {\n",
       "        text-align: right;\n",
       "    }\n",
       "</style>\n",
       "<table border=\"1\" class=\"dataframe\">\n",
       "  <thead>\n",
       "    <tr style=\"text-align: right;\">\n",
       "      <th></th>\n",
       "      <th>Name</th>\n",
       "      <th>Year</th>\n",
       "      <th>Fuel_Type</th>\n",
       "      <th>Transmission</th>\n",
       "      <th>Owner_Type</th>\n",
       "      <th>Price</th>\n",
       "    </tr>\n",
       "  </thead>\n",
       "  <tbody>\n",
       "    <tr>\n",
       "      <th>0</th>\n",
       "      <td>1200</td>\n",
       "      <td>2010</td>\n",
       "      <td>0</td>\n",
       "      <td>1</td>\n",
       "      <td>0</td>\n",
       "      <td>1.75</td>\n",
       "    </tr>\n",
       "    <tr>\n",
       "      <th>1</th>\n",
       "      <td>512</td>\n",
       "      <td>2015</td>\n",
       "      <td>1</td>\n",
       "      <td>1</td>\n",
       "      <td>0</td>\n",
       "      <td>12.50</td>\n",
       "    </tr>\n",
       "    <tr>\n",
       "      <th>2</th>\n",
       "      <td>486</td>\n",
       "      <td>2011</td>\n",
       "      <td>4</td>\n",
       "      <td>1</td>\n",
       "      <td>0</td>\n",
       "      <td>4.50</td>\n",
       "    </tr>\n",
       "  </tbody>\n",
       "</table>\n",
       "</div>"
      ],
      "text/plain": [
       "   Name  Year  Fuel_Type  Transmission  Owner_Type  Price\n",
       "0  1200  2010          0             1           0   1.75\n",
       "1   512  2015          1             1           0  12.50\n",
       "2   486  2011          4             1           0   4.50"
      ]
     },
     "execution_count": 46,
     "metadata": {},
     "output_type": "execute_result"
    }
   ],
   "source": [
    "dataset.head(3)"
   ]
  },
  {
   "cell_type": "markdown",
   "id": "f399e112-601c-40e2-b2b2-c4a79186be38",
   "metadata": {},
   "source": [
    "CONVERT THE DATASET INTO INPUT AND OUTPUT DATA"
   ]
  },
  {
   "cell_type": "code",
   "execution_count": 47,
   "id": "5e90eebc-f621-43d1-bfd9-de7d058f1b85",
   "metadata": {},
   "outputs": [],
   "source": [
    "Input_data = dataset.iloc[:,:-1]\n",
    "OutPut_data = dataset[\"Price\"]\n"
   ]
  },
  {
   "cell_type": "markdown",
   "id": "699d8861-d486-45fb-9355-c665e8e96588",
   "metadata": {},
   "source": [
    "FEATURE SCALING"
   ]
  },
  {
   "cell_type": "code",
   "execution_count": 48,
   "id": "9fb9d466-4128-402a-89ae-d48dbd4e2875",
   "metadata": {},
   "outputs": [],
   "source": [
    "from sklearn.preprocessing import StandardScaler\n",
    "ss = StandardScaler()"
   ]
  },
  {
   "cell_type": "markdown",
   "id": "4965a71c-f181-4b3d-957c-2bf5685d4047",
   "metadata": {},
   "source": [
    "PERFORM FIT AND TRANSFORM AND  THEN OVERWRITE IN Input_data VARIABLE"
   ]
  },
  {
   "cell_type": "code",
   "execution_count": 49,
   "id": "13ddb02f-2aac-4d8b-bdea-8cf5d6d755cf",
   "metadata": {},
   "outputs": [],
   "source": [
    "Input_data = pd.DataFrame(ss.fit_transform(Input_data),columns = Input_data.columns)"
   ]
  },
  {
   "cell_type": "markdown",
   "id": "a2bf8db2-2b7d-4d08-a02a-542280c6448f",
   "metadata": {},
   "source": [
    "NOW SPLIT THE DATASET FOR TRAINING AND TESTING"
   ]
  },
  {
   "cell_type": "code",
   "execution_count": 50,
   "id": "447ad63e-b27d-4111-bacc-85c0cd04ef11",
   "metadata": {},
   "outputs": [],
   "source": [
    "from sklearn.model_selection import train_test_split"
   ]
  },
  {
   "cell_type": "code",
   "execution_count": 51,
   "id": "b88010de-f056-4cd5-9a30-3b3dc9e61be7",
   "metadata": {},
   "outputs": [],
   "source": [
    "x_train,x_test,y_train,y_test = train_test_split(Input_data,OutPut_data,test_size = 0.2,random_state = 42)"
   ]
  },
  {
   "cell_type": "markdown",
   "id": "9c950578-f6b6-4b13-bfbe-e256d6595872",
   "metadata": {},
   "source": [
    "IMPORT THE MACHINE LEARNING MODEL "
   ]
  },
  {
   "cell_type": "code",
   "execution_count": 54,
   "id": "e31c8435-6537-4f01-a73c-aef918a523fb",
   "metadata": {},
   "outputs": [],
   "source": [
    "from sklearn.linear_model import LinearRegression,Lasso,Ridge,ElasticNet\n",
    "from sklearn.tree import DecisionTreeRegressor\n",
    "from sklearn.svm import SVR\n",
    "from sklearn.neighbors import KNeighborsRegressor\n",
    "from sklearn.ensemble import RandomForestRegressor"
   ]
  },
  {
   "cell_type": "markdown",
   "id": "05431524-d566-4b73-85ed-83c4f6cc04b0",
   "metadata": {},
   "source": [
    "FIT THE MODEL AND TEST THE ACCURACY OF THE MODEL(FOR ALL ABOVE MODELS)"
   ]
  },
  {
   "cell_type": "code",
   "execution_count": 55,
   "id": "622faca6-8a18-4e25-b1db-38e9fe2d90e5",
   "metadata": {},
   "outputs": [
    {
     "data": {
      "text/plain": [
       "(45.367331272054834, 43.36202734659202)"
      ]
     },
     "execution_count": 55,
     "metadata": {},
     "output_type": "execute_result"
    }
   ],
   "source": [
    "lr = LinearRegression()\n",
    "lr.fit(x_train,y_train)\n",
    "lr.score(x_train,y_train)*100 , lr.score(x_test,y_test)*100"
   ]
  },
  {
   "cell_type": "code",
   "execution_count": 56,
   "id": "76437df3-4a4e-4d00-905f-98b4e818bd9a",
   "metadata": {},
   "outputs": [
    {
     "data": {
      "text/plain": [
       "(44.69961990605347, 42.91587573650906)"
      ]
     },
     "execution_count": 56,
     "metadata": {},
     "output_type": "execute_result"
    }
   ],
   "source": [
    "la = Lasso(alpha = 0.5)\n",
    "la.fit(x_train,y_train)\n",
    "la.score(x_train,y_train)*100,la.score(x_test,y_test)*100"
   ]
  },
  {
   "cell_type": "code",
   "execution_count": 57,
   "id": "01a903c4-31eb-4207-9014-4f598d578b2c",
   "metadata": {},
   "outputs": [
    {
     "data": {
      "text/plain": [
       "(45.36733090213709, 43.362353928520946)"
      ]
     },
     "execution_count": 57,
     "metadata": {},
     "output_type": "execute_result"
    }
   ],
   "source": [
    "ri = Ridge(alpha = 0.5)\n",
    "ri.fit(x_train,y_train)\n",
    "ri.score(x_train,y_train)*100 , ri.score(x_test,y_test)*100"
   ]
  },
  {
   "cell_type": "code",
   "execution_count": 58,
   "id": "83341cc6-a1c7-4192-97f2-04f59f07f495",
   "metadata": {},
   "outputs": [
    {
     "data": {
      "text/plain": [
       "(43.2368049283202, 41.85994148455223)"
      ]
     },
     "execution_count": 58,
     "metadata": {},
     "output_type": "execute_result"
    }
   ],
   "source": [
    "el = ElasticNet(alpha = 0.5)\n",
    "el.fit(x_train,y_train)\n",
    "el.score(x_train,y_train)*100 ,el.score(x_test,y_test)*100"
   ]
  },
  {
   "cell_type": "code",
   "execution_count": 61,
   "id": "0c80712d-1e0f-43ff-9da1-08223f4043bb",
   "metadata": {},
   "outputs": [
    {
     "data": {
      "text/plain": [
       "(99.54790090824429, 63.21415482999666)"
      ]
     },
     "execution_count": 61,
     "metadata": {},
     "output_type": "execute_result"
    }
   ],
   "source": [
    "dt = DecisionTreeRegressor()\n",
    "dt.fit(x_train,y_train)\n",
    "dt.score(x_train,y_train)*100 ,dt.score(x_test,y_test)*100"
   ]
  },
  {
   "cell_type": "code",
   "execution_count": 62,
   "id": "3594f43c-f1b0-4458-8b2a-917e61c86e05",
   "metadata": {},
   "outputs": [
    {
     "data": {
      "text/plain": [
       "(97.09608762703284, 80.74389280349766)"
      ]
     },
     "execution_count": 62,
     "metadata": {},
     "output_type": "execute_result"
    }
   ],
   "source": [
    "rf = RandomForestRegressor(n_estimators = 40)\n",
    "rf.fit(x_train,y_train)\n",
    "rf.score(x_train,y_train)*100 ,rf.score(x_test,y_test)*100"
   ]
  },
  {
   "cell_type": "code",
   "execution_count": 63,
   "id": "c974ba33-3b56-4e91-90a0-31537d49bdd5",
   "metadata": {},
   "outputs": [
    {
     "data": {
      "text/plain": [
       "(53.124650564523044, 52.612208143601634)"
      ]
     },
     "execution_count": 63,
     "metadata": {},
     "output_type": "execute_result"
    }
   ],
   "source": [
    "sv = SVR()\n",
    "sv.fit(x_train,y_train)\n",
    "sv.score(x_train,y_train)*100 ,sv.score(x_test,y_test)*100"
   ]
  },
  {
   "cell_type": "code",
   "execution_count": 64,
   "id": "183f251c-4e1c-44bb-9a7d-7bd8a88915dc",
   "metadata": {},
   "outputs": [
    {
     "data": {
      "text/plain": [
       "(77.09022630069194, 68.09409083341242)"
      ]
     },
     "execution_count": 64,
     "metadata": {},
     "output_type": "execute_result"
    }
   ],
   "source": [
    "kn = KNeighborsRegressor(n_neighbors = 5)\n",
    "kn.fit(x_train,y_train)\n",
    "kn.score(x_train,y_train)*100 ,kn.score(x_test,y_test)*100"
   ]
  },
  {
   "cell_type": "markdown",
   "id": "2a1f67c2-351d-4a03-95de-dc2e606a3d80",
   "metadata": {},
   "source": [
    "CALCULATE ERROR FOR THE HIGHEST ACCURACY MODEL"
   ]
  },
  {
   "cell_type": "code",
   "execution_count": 65,
   "id": "858f58db-ff83-4b1a-9a5c-65c1129d5510",
   "metadata": {},
   "outputs": [],
   "source": [
    "from sklearn.metrics import mean_squared_error,mean_absolute_error"
   ]
  },
  {
   "cell_type": "code",
   "execution_count": 66,
   "id": "0c83db59-16ce-4ec7-8b3f-c911a32f4532",
   "metadata": {},
   "outputs": [
    {
     "data": {
      "text/plain": [
       "(45.26847415483729, 2.279401279045797)"
      ]
     },
     "execution_count": 66,
     "metadata": {},
     "output_type": "execute_result"
    }
   ],
   "source": [
    "mean_squared_error(y_test,dt.predict(x_test)),mean_absolute_error(y_test,dt.predict(x_test))"
   ]
  },
  {
   "cell_type": "code",
   "execution_count": 67,
   "id": "1f88ba86-e77d-46f4-8c1f-41183c37df2a",
   "metadata": {},
   "outputs": [
    {
     "data": {
      "text/plain": [
       "(23.696467674431947, 1.950105603859778)"
      ]
     },
     "execution_count": 67,
     "metadata": {},
     "output_type": "execute_result"
    }
   ],
   "source": [
    "mean_squared_error(y_test,rf.predict(x_test)),mean_absolute_error(y_test,rf.predict(x_test))"
   ]
  },
  {
   "cell_type": "markdown",
   "id": "ddbb6a40-d482-489a-86a6-83383b4c026f",
   "metadata": {},
   "source": [
    "NOW PREDICT THE PRICE FOR ANY PARTICULAR CAR"
   ]
  },
  {
   "cell_type": "code",
   "execution_count": 68,
   "id": "cda533f1-2f53-4ae6-8515-3ca9a2dc4044",
   "metadata": {},
   "outputs": [
    {
     "data": {
      "text/html": [
       "<div>\n",
       "<style scoped>\n",
       "    .dataframe tbody tr th:only-of-type {\n",
       "        vertical-align: middle;\n",
       "    }\n",
       "\n",
       "    .dataframe tbody tr th {\n",
       "        vertical-align: top;\n",
       "    }\n",
       "\n",
       "    .dataframe thead th {\n",
       "        text-align: right;\n",
       "    }\n",
       "</style>\n",
       "<table border=\"1\" class=\"dataframe\">\n",
       "  <thead>\n",
       "    <tr style=\"text-align: right;\">\n",
       "      <th></th>\n",
       "      <th>Name</th>\n",
       "      <th>Year</th>\n",
       "      <th>Fuel_Type</th>\n",
       "      <th>Transmission</th>\n",
       "      <th>Owner_Type</th>\n",
       "    </tr>\n",
       "  </thead>\n",
       "  <tbody>\n",
       "    <tr>\n",
       "      <th>2868</th>\n",
       "      <td>0.413435</td>\n",
       "      <td>-0.109559</td>\n",
       "      <td>-0.905771</td>\n",
       "      <td>0.632529</td>\n",
       "      <td>-0.463672</td>\n",
       "    </tr>\n",
       "    <tr>\n",
       "      <th>5924</th>\n",
       "      <td>-0.098110</td>\n",
       "      <td>1.113881</td>\n",
       "      <td>-0.905771</td>\n",
       "      <td>0.632529</td>\n",
       "      <td>-0.463672</td>\n",
       "    </tr>\n",
       "    <tr>\n",
       "      <th>3764</th>\n",
       "      <td>0.015147</td>\n",
       "      <td>0.196301</td>\n",
       "      <td>-0.905771</td>\n",
       "      <td>0.632529</td>\n",
       "      <td>-0.463672</td>\n",
       "    </tr>\n",
       "    <tr>\n",
       "      <th>4144</th>\n",
       "      <td>1.272301</td>\n",
       "      <td>0.808021</td>\n",
       "      <td>-0.905771</td>\n",
       "      <td>0.632529</td>\n",
       "      <td>1.980149</td>\n",
       "    </tr>\n",
       "    <tr>\n",
       "      <th>2780</th>\n",
       "      <td>-0.619093</td>\n",
       "      <td>-1.332998</td>\n",
       "      <td>1.087831</td>\n",
       "      <td>0.632529</td>\n",
       "      <td>-0.463672</td>\n",
       "    </tr>\n",
       "    <tr>\n",
       "      <th>...</th>\n",
       "      <td>...</td>\n",
       "      <td>...</td>\n",
       "      <td>...</td>\n",
       "      <td>...</td>\n",
       "      <td>...</td>\n",
       "    </tr>\n",
       "    <tr>\n",
       "      <th>5926</th>\n",
       "      <td>0.052899</td>\n",
       "      <td>-4.085738</td>\n",
       "      <td>1.087831</td>\n",
       "      <td>0.632529</td>\n",
       "      <td>-0.463672</td>\n",
       "    </tr>\n",
       "    <tr>\n",
       "      <th>4216</th>\n",
       "      <td>0.549343</td>\n",
       "      <td>0.502161</td>\n",
       "      <td>1.087831</td>\n",
       "      <td>0.632529</td>\n",
       "      <td>-0.463672</td>\n",
       "    </tr>\n",
       "    <tr>\n",
       "      <th>1351</th>\n",
       "      <td>0.215235</td>\n",
       "      <td>0.502161</td>\n",
       "      <td>1.087831</td>\n",
       "      <td>0.632529</td>\n",
       "      <td>-0.463672</td>\n",
       "    </tr>\n",
       "    <tr>\n",
       "      <th>4603</th>\n",
       "      <td>0.251099</td>\n",
       "      <td>1.725601</td>\n",
       "      <td>-1.570306</td>\n",
       "      <td>0.632529</td>\n",
       "      <td>-0.463672</td>\n",
       "    </tr>\n",
       "    <tr>\n",
       "      <th>5668</th>\n",
       "      <td>-1.194816</td>\n",
       "      <td>-1.944718</td>\n",
       "      <td>-0.905771</td>\n",
       "      <td>0.632529</td>\n",
       "      <td>-0.463672</td>\n",
       "    </tr>\n",
       "  </tbody>\n",
       "</table>\n",
       "<p>1204 rows × 5 columns</p>\n",
       "</div>"
      ],
      "text/plain": [
       "          Name      Year  Fuel_Type  Transmission  Owner_Type\n",
       "2868  0.413435 -0.109559  -0.905771      0.632529   -0.463672\n",
       "5924 -0.098110  1.113881  -0.905771      0.632529   -0.463672\n",
       "3764  0.015147  0.196301  -0.905771      0.632529   -0.463672\n",
       "4144  1.272301  0.808021  -0.905771      0.632529    1.980149\n",
       "2780 -0.619093 -1.332998   1.087831      0.632529   -0.463672\n",
       "...        ...       ...        ...           ...         ...\n",
       "5926  0.052899 -4.085738   1.087831      0.632529   -0.463672\n",
       "4216  0.549343  0.502161   1.087831      0.632529   -0.463672\n",
       "1351  0.215235  0.502161   1.087831      0.632529   -0.463672\n",
       "4603  0.251099  1.725601  -1.570306      0.632529   -0.463672\n",
       "5668 -1.194816 -1.944718  -0.905771      0.632529   -0.463672\n",
       "\n",
       "[1204 rows x 5 columns]"
      ]
     },
     "execution_count": 68,
     "metadata": {},
     "output_type": "execute_result"
    }
   ],
   "source": [
    "x_test"
   ]
  },
  {
   "cell_type": "code",
   "execution_count": 69,
   "id": "4d891d65-43c2-4c46-89e6-1e4954d2eff2",
   "metadata": {},
   "outputs": [
    {
     "data": {
      "text/plain": [
       "2868     5.75\n",
       "5924    10.08\n",
       "3764     7.85\n",
       "4144     2.40\n",
       "2780     1.60\n",
       "        ...  \n",
       "5926     0.55\n",
       "4216     4.65\n",
       "1351     6.93\n",
       "4603     5.38\n",
       "5668     1.99\n",
       "Name: Price, Length: 1204, dtype: float64"
      ]
     },
     "execution_count": 69,
     "metadata": {},
     "output_type": "execute_result"
    }
   ],
   "source": [
    "y_test"
   ]
  },
  {
   "cell_type": "code",
   "execution_count": 98,
   "id": "1726318f-e0ab-4822-a249-afa280d9fb80",
   "metadata": {},
   "outputs": [
    {
     "name": "stderr",
     "output_type": "stream",
     "text": [
      "C:\\Users\\HAMDAAN INFOTECH\\AppData\\Local\\Programs\\Python\\Python312\\Lib\\site-packages\\sklearn\\base.py:493: UserWarning: X does not have valid feature names, but RandomForestRegressor was fitted with feature names\n",
      "  warnings.warn(\n"
     ]
    },
    {
     "data": {
      "text/plain": [
       "array([4.9634127])"
      ]
     },
     "execution_count": 98,
     "metadata": {},
     "output_type": "execute_result"
    }
   ],
   "source": [
    "rf.predict([[0.413435 ,\t-0.109559 ,\t-0.905771 ,\t0.632529 ,\t-0.463672]])"
   ]
  },
  {
   "cell_type": "code",
   "execution_count": 99,
   "id": "9b7f4782-5af2-4f60-9acc-9d3dd37e50e5",
   "metadata": {},
   "outputs": [],
   "source": [
    "new_data1 = pd.DataFrame([[\"Maruti Wagon R LXI CNG\", \t2010,\"CNG\" ,\"Manual\", \t\"First\"]],columns= x_train.columns)"
   ]
  },
  {
   "cell_type": "code",
   "execution_count": 100,
   "id": "fba4aa59-bd44-4e5f-80ed-370c75f4fb40",
   "metadata": {},
   "outputs": [
    {
     "data": {
      "text/html": [
       "<div>\n",
       "<style scoped>\n",
       "    .dataframe tbody tr th:only-of-type {\n",
       "        vertical-align: middle;\n",
       "    }\n",
       "\n",
       "    .dataframe tbody tr th {\n",
       "        vertical-align: top;\n",
       "    }\n",
       "\n",
       "    .dataframe thead th {\n",
       "        text-align: right;\n",
       "    }\n",
       "</style>\n",
       "<table border=\"1\" class=\"dataframe\">\n",
       "  <thead>\n",
       "    <tr style=\"text-align: right;\">\n",
       "      <th></th>\n",
       "      <th>Name</th>\n",
       "      <th>Year</th>\n",
       "      <th>Fuel_Type</th>\n",
       "      <th>Transmission</th>\n",
       "      <th>Owner_Type</th>\n",
       "    </tr>\n",
       "  </thead>\n",
       "  <tbody>\n",
       "    <tr>\n",
       "      <th>0</th>\n",
       "      <td>Maruti Wagon R LXI CNG</td>\n",
       "      <td>2010</td>\n",
       "      <td>CNG</td>\n",
       "      <td>Manual</td>\n",
       "      <td>First</td>\n",
       "    </tr>\n",
       "  </tbody>\n",
       "</table>\n",
       "</div>"
      ],
      "text/plain": [
       "                     Name  Year Fuel_Type Transmission Owner_Type\n",
       "0  Maruti Wagon R LXI CNG  2010       CNG       Manual      First"
      ]
     },
     "execution_count": 100,
     "metadata": {},
     "output_type": "execute_result"
    }
   ],
   "source": [
    "new_data1"
   ]
  },
  {
   "cell_type": "code",
   "execution_count": 102,
   "id": "1cbc47e3-afe0-4e71-bc37-b940ec062dd8",
   "metadata": {},
   "outputs": [],
   "source": [
    "new_data1[\"Name\"] = Car_Name_le.transform(new_data1[\"Name\"])"
   ]
  },
  {
   "cell_type": "code",
   "execution_count": 103,
   "id": "6e38420e-d732-49c0-a968-46ed66be2123",
   "metadata": {},
   "outputs": [],
   "source": [
    "new_data1[\"Fuel_Type\"] = Fuel_Type_le.transform(new_data1[\"Fuel_Type\"])"
   ]
  },
  {
   "cell_type": "code",
   "execution_count": 104,
   "id": "bd90d177-8237-45bf-9bb2-175ec90070c0",
   "metadata": {},
   "outputs": [],
   "source": [
    "new_data1[\"Transmission\"] = Transmission_le.transform(new_data1[\"Transmission\"])"
   ]
  },
  {
   "cell_type": "code",
   "execution_count": 106,
   "id": "6f7fc434-6795-4782-8898-c230ec4191d5",
   "metadata": {},
   "outputs": [],
   "source": [
    "new_data1[\"Owner_Type\"] = Owner_type_le.transform(new_data1[\"Owner_Type\"])"
   ]
  },
  {
   "cell_type": "code",
   "execution_count": 108,
   "id": "dd28df80-8e21-4322-b7e1-f88223a76ead",
   "metadata": {},
   "outputs": [],
   "source": [
    "new_data1 = pd.DataFrame(ss.transform(new_data1),columns = new_data1.columns)"
   ]
  },
  {
   "cell_type": "code",
   "execution_count": 109,
   "id": "90bfb342-6ec6-4bae-8a1f-a17fe6a9e293",
   "metadata": {},
   "outputs": [
    {
     "data": {
      "text/plain": [
       "array([1.825])"
      ]
     },
     "execution_count": 109,
     "metadata": {},
     "output_type": "execute_result"
    }
   ],
   "source": [
    "rf.predict(new_data1)\n"
   ]
  },
  {
   "cell_type": "markdown",
   "id": "b029e95c-fc4c-45c7-8f2b-d99e9c7ff893",
   "metadata": {},
   "source": [
    "#array([1.825])  the predicted price for the \"Maruti Wagon R LXI CNG\" car\n",
    "#which is approximately equal to the price of \"Maruti Wagon R LXI CNG\" \n",
    "#for which we want to calculate the price (i.e 1.75 in dataset)\n"
   ]
  },
  {
   "cell_type": "code",
   "execution_count": null,
   "id": "c61f3dfe-35e8-463a-bc95-85df3babde7c",
   "metadata": {},
   "outputs": [],
   "source": []
  }
 ],
 "metadata": {
  "kernelspec": {
   "display_name": "Python 3 (ipykernel)",
   "language": "python",
   "name": "python3"
  },
  "language_info": {
   "codemirror_mode": {
    "name": "ipython",
    "version": 3
   },
   "file_extension": ".py",
   "mimetype": "text/x-python",
   "name": "python",
   "nbconvert_exporter": "python",
   "pygments_lexer": "ipython3",
   "version": "3.12.0"
  }
 },
 "nbformat": 4,
 "nbformat_minor": 5
}
